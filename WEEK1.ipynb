{
  "cells": [
    {
      "cell_type": "markdown",
      "metadata": {
        "id": "KXCf5J2UNCMa"
      },
      "source": [
        "# Week-1\n",
        "\n",
        "# Linear Regression Example using tensorflow\n",
        "Linear regression implementation with TensorFlow v2 library.\n",
        "\n",
        "This example is using a low-level approach to better understand all mechanics behind the training process.\n"
      ]
    },
    {
      "cell_type": "markdown",
      "metadata": {
        "id": "7k6Uy8giNCMb"
      },
      "source": [
        "![image.png](attachment:image.png)"
      ]
    },
    {
      "cell_type": "code",
      "execution_count": null,
      "metadata": {
        "id": "uB0t1srvNCMc"
      },
      "outputs": [],
      "source": [
        "import tensorflow as tf\n",
        "import matplotlib.pyplot as plt\n",
        "import numpy as np\n",
        "rng = np.random\n"
      ]
    },
    {
      "cell_type": "code",
      "execution_count": null,
      "metadata": {
        "id": "UPNaoYBTNCMd"
      },
      "outputs": [],
      "source": []
    },
    {
      "cell_type": "markdown",
      "metadata": {
        "id": "SamuLx2YNCMd"
      },
      "source": [
        "![image.png](attachment:image.png)"
      ]
    },
    {
      "cell_type": "code",
      "execution_count": null,
      "metadata": {
        "id": "E2Jjg10eNCMd"
      },
      "outputs": [],
      "source": [
        "learning_rate = 0.01\n",
        "training_steps=1000\n",
        "display_step=50"
      ]
    },
    {
      "cell_type": "code",
      "execution_count": null,
      "metadata": {
        "id": "LoKNO4I3NCMd"
      },
      "outputs": [],
      "source": []
    },
    {
      "cell_type": "code",
      "execution_count": null,
      "metadata": {
        "id": "kDqOSI12NCMd"
      },
      "outputs": [],
      "source": [
        "# Just run the next cell using 'Ctrl' + 'Enter'"
      ]
    },
    {
      "cell_type": "code",
      "execution_count": null,
      "metadata": {
        "id": "BfZGwezSNCMd"
      },
      "outputs": [],
      "source": [
        "# Training Data.\n",
        "\n",
        "X = np.array([3.3,4.4,5.5,6.71,6.93,4.168,9.779,6.182,7.59,2.167,\n",
        "              7.042,10.791,5.313,7.997,5.654,9.27,3.1])\n",
        "\n",
        "Y = np.array([1.7,2.76,2.09,3.19,1.694,1.573,3.366,2.596,2.53,1.221,\n",
        "              2.827,3.465,1.65,2.904,2.42,2.94,1.3])\n",
        "\n",
        "n_samples = X.shape[0]"
      ]
    },
    {
      "cell_type": "markdown",
      "metadata": {
        "id": "UoJkMJtFNCMe"
      },
      "source": [
        "![image.png](attachment:image.png)"
      ]
    },
    {
      "cell_type": "code",
      "execution_count": null,
      "metadata": {
        "id": "G7-zV2tYNCMe",
        "outputId": "f8ccd94d-eef5-4376-e846-2a4c35ad23ba"
      },
      "outputs": [
        {
          "name": "stdout",
          "output_type": "stream",
          "text": [
            "[ 3.3    4.4    5.5    6.71   6.93   4.168  9.779  6.182  7.59   2.167\n",
            "  7.042 10.791  5.313  7.997  5.654  9.27   3.1  ] \n",
            " (17,)\n"
          ]
        }
      ],
      "source": [
        "print(X,'\\n',X.shape)"
      ]
    },
    {
      "cell_type": "code",
      "execution_count": null,
      "metadata": {
        "id": "L6qy_2-iNCMe",
        "outputId": "fb9ab051-bbe2-46ab-dfc4-044b6cadd745"
      },
      "outputs": [
        {
          "name": "stdout",
          "output_type": "stream",
          "text": [
            "[ 3.3    4.4    5.5    6.71   6.93   4.168  9.779  6.182  7.59   2.167\n",
            "  7.042 10.791  5.313  7.997  5.654  9.27   3.1  ] \n",
            " (17,)\n"
          ]
        }
      ],
      "source": []
    },
    {
      "cell_type": "markdown",
      "metadata": {
        "id": "h_DLgHHsNCMf"
      },
      "source": [
        "![image.png](attachment:image.png)"
      ]
    },
    {
      "cell_type": "code",
      "execution_count": null,
      "metadata": {
        "id": "oFpTbFJsNCMf",
        "outputId": "3a5f866e-5871-4a34-9283-4833f99a4870"
      },
      "outputs": [
        {
          "name": "stdout",
          "output_type": "stream",
          "text": [
            "[1.7   2.76  2.09  3.19  1.694 1.573 3.366 2.596 2.53  1.221 2.827 3.465\n",
            " 1.65  2.904 2.42  2.94  1.3  ] \n",
            " (17,)\n"
          ]
        }
      ],
      "source": [
        "print(Y,'\\n',Y.shape)"
      ]
    },
    {
      "cell_type": "code",
      "execution_count": null,
      "metadata": {
        "id": "oKmMLQVkNCMg",
        "outputId": "2b883ad9-5aab-4066-8662-7017e92a8d5a"
      },
      "outputs": [
        {
          "name": "stdout",
          "output_type": "stream",
          "text": [
            "[1.7   2.76  2.09  3.19  1.694 1.573 3.366 2.596 2.53  1.221 2.827 3.465\n",
            " 1.65  2.904 2.42  2.94  1.3  ] \n",
            " (17,)\n"
          ]
        }
      ],
      "source": []
    },
    {
      "cell_type": "markdown",
      "metadata": {
        "id": "sdUdczxtNCMh"
      },
      "source": [
        "![image.png](attachment:image.png)"
      ]
    },
    {
      "cell_type": "code",
      "execution_count": null,
      "metadata": {
        "id": "mmNlmENYNCMh",
        "outputId": "c5959635-1878-4740-847a-b818ed807045"
      },
      "outputs": [
        {
          "name": "stdout",
          "output_type": "stream",
          "text": [
            "0.2362444 \n",
            " -0.3190541\n"
          ]
        }
      ],
      "source": [
        "W= tf.Variable(rng.randn(),name=\"weight\")\n",
        "b=tf.Variable(rng.randn(),name=\"bias\")\n",
        "print(W.numpy(),'\\n',b.numpy())"
      ]
    },
    {
      "cell_type": "code",
      "execution_count": null,
      "metadata": {
        "id": "UHxYWUZsNCMi",
        "outputId": "4d34bfbe-3f41-4529-b40e-a00f2d5b2960"
      },
      "outputs": [
        {
          "name": "stdout",
          "output_type": "stream",
          "text": [
            "-0.6282028 \n",
            " 1.6282653\n"
          ]
        }
      ],
      "source": []
    },
    {
      "cell_type": "markdown",
      "metadata": {
        "id": "3xZnzIFANCMi"
      },
      "source": [
        "![image.png](attachment:image.png)"
      ]
    },
    {
      "cell_type": "code",
      "execution_count": null,
      "metadata": {
        "id": "phQHHjrjNCMi"
      },
      "outputs": [],
      "source": [
        "def linear_regression(x):\n",
        "    return W*x+b"
      ]
    },
    {
      "cell_type": "code",
      "execution_count": null,
      "metadata": {
        "id": "21yMwPE7NCMi"
      },
      "outputs": [],
      "source": []
    },
    {
      "cell_type": "markdown",
      "metadata": {
        "id": "IqoJofcWNCMj"
      },
      "source": [
        "![image.png](attachment:image.png)"
      ]
    },
    {
      "cell_type": "code",
      "execution_count": null,
      "metadata": {
        "id": "SrtH18SuNCMj"
      },
      "outputs": [],
      "source": [
        "def mean_square(y_pred,y_true):\n",
        "    return tf.reduce_sum(tf.pow(y_pred-y_true,2))/(2*n_samples)"
      ]
    },
    {
      "cell_type": "code",
      "execution_count": null,
      "metadata": {
        "id": "LV9vAsPlNCMj"
      },
      "outputs": [],
      "source": []
    },
    {
      "cell_type": "markdown",
      "metadata": {
        "id": "SmKDNgXlNCMj"
      },
      "source": [
        "![image.png](attachment:image.png)"
      ]
    },
    {
      "cell_type": "code",
      "execution_count": null,
      "metadata": {
        "id": "_OspR7LFNCMj"
      },
      "outputs": [],
      "source": [
        "optimizer=tf.optimizers.SGD(learning_rate)"
      ]
    },
    {
      "cell_type": "code",
      "execution_count": null,
      "metadata": {
        "id": "zO09mYqRNCMj"
      },
      "outputs": [],
      "source": []
    },
    {
      "cell_type": "code",
      "execution_count": null,
      "metadata": {
        "id": "vlxMK6-zNCMj"
      },
      "outputs": [],
      "source": [
        "# Adding a question mark () after the function name lets you view the latest documentation.\n",
        "# This is a handy tool."
      ]
    },
    {
      "cell_type": "markdown",
      "metadata": {
        "id": "fjGrGPEsNCMj"
      },
      "source": [
        "![image.png](attachment:image.png)"
      ]
    },
    {
      "cell_type": "code",
      "execution_count": null,
      "metadata": {
        "id": "kLlLLknSNCMk"
      },
      "outputs": [],
      "source": [
        "tf.optimizers.SGD?"
      ]
    },
    {
      "cell_type": "code",
      "execution_count": null,
      "metadata": {
        "id": "TiUJxT5mNCMk"
      },
      "outputs": [],
      "source": []
    },
    {
      "cell_type": "markdown",
      "metadata": {
        "id": "GMXB-VswNCMk"
      },
      "source": [
        "![image.png](attachment:image.png)"
      ]
    },
    {
      "cell_type": "code",
      "execution_count": null,
      "metadata": {
        "id": "f96HMyvGNCMk"
      },
      "outputs": [],
      "source": [
        "def run_optimization():\n",
        "    with tf.GradientTape() as g:\n",
        "        pred=linear_regression(X)\n",
        "        loss=mean_square(pred,Y)\n",
        "\n",
        "    gradients=g.gradient(loss,[W,b])\n",
        "\n",
        "    optimizer.apply_gradients(zip(gradients,[W,b]))"
      ]
    },
    {
      "cell_type": "code",
      "execution_count": null,
      "metadata": {
        "id": "GTN3fxb4NCMk"
      },
      "outputs": [],
      "source": []
    },
    {
      "cell_type": "markdown",
      "metadata": {
        "id": "HcsqFytXNCMk"
      },
      "source": [
        "![image.png](attachment:image.png)"
      ]
    },
    {
      "cell_type": "code",
      "execution_count": null,
      "metadata": {
        "id": "K_MbZwJcNCMk",
        "outputId": "fa9ff849-4a8b-4e76-b7f3-2cca270a8627"
      },
      "outputs": [
        {
          "name": "stdout",
          "output_type": "stream",
          "text": [
            "step : 50. loss: 0.077438, W: 0.264430, b: 0.708092\n",
            "step : 100. loss: 0.077380, W: 0.263676, b: 0.713437\n",
            "step : 150. loss: 0.077328, W: 0.262966, b: 0.718466\n",
            "step : 200. loss: 0.077283, W: 0.262299, b: 0.723200\n",
            "step : 250. loss: 0.077242, W: 0.261670, b: 0.727654\n",
            "step : 300. loss: 0.077206, W: 0.261079, b: 0.731846\n",
            "step : 350. loss: 0.077175, W: 0.260523, b: 0.735791\n",
            "step : 400. loss: 0.077146, W: 0.259999, b: 0.739504\n",
            "step : 450. loss: 0.077122, W: 0.259506, b: 0.742998\n",
            "step : 500. loss: 0.077100, W: 0.259042, b: 0.746286\n",
            "step : 550. loss: 0.077080, W: 0.258606, b: 0.749380\n",
            "step : 600. loss: 0.077063, W: 0.258195, b: 0.752292\n",
            "step : 650. loss: 0.077047, W: 0.257809, b: 0.755032\n",
            "step : 700. loss: 0.077034, W: 0.257445, b: 0.757611\n",
            "step : 750. loss: 0.077022, W: 0.257102, b: 0.760039\n",
            "step : 800. loss: 0.077011, W: 0.256780, b: 0.762323\n",
            "step : 850. loss: 0.077002, W: 0.256477, b: 0.764472\n",
            "step : 900. loss: 0.076993, W: 0.256192, b: 0.766495\n",
            "step : 950. loss: 0.076986, W: 0.255923, b: 0.768398\n",
            "step : 1000. loss: 0.076980, W: 0.255671, b: 0.770190\n"
          ]
        }
      ],
      "source": [
        "for step in range(1,training_steps+1):\n",
        "    run_optimization()\n",
        "    if step % display_step==0:\n",
        "        pred=linear_regression(X)\n",
        "        loss=mean_square(pred,Y)\n",
        "        print(\"step : %i. loss: %f, W: %f, b: %f\" %(step,loss,W.numpy(),b.numpy()))"
      ]
    },
    {
      "cell_type": "code",
      "execution_count": null,
      "metadata": {
        "id": "QmzD8S9UNCMl",
        "outputId": "d32c9270-2e58-4096-b7e1-ecea82557b25"
      },
      "outputs": [
        {
          "name": "stdout",
          "output_type": "stream",
          "text": [
            "step: 50, loss: 0.124850, W: 0.127526, b: 1.678677\n",
            "step: 100, loss: 0.119369, W: 0.134839, b: 1.626834\n",
            "step: 150, loss: 0.114515, W: 0.141720, b: 1.578046\n",
            "step: 200, loss: 0.110216, W: 0.148197, b: 1.532132\n",
            "step: 250, loss: 0.106409, W: 0.154291, b: 1.488923\n",
            "step: 300, loss: 0.103038, W: 0.160027, b: 1.448260\n",
            "step: 350, loss: 0.100052, W: 0.165425, b: 1.409994\n",
            "step: 400, loss: 0.097407, W: 0.170504, b: 1.373981\n",
            "step: 450, loss: 0.095065, W: 0.175285, b: 1.340091\n",
            "step: 500, loss: 0.092991, W: 0.179783, b: 1.308198\n",
            "step: 550, loss: 0.091154, W: 0.184017, b: 1.278184\n",
            "step: 600, loss: 0.089527, W: 0.188001, b: 1.249938\n",
            "step: 650, loss: 0.088086, W: 0.191750, b: 1.223357\n",
            "step: 700, loss: 0.086810, W: 0.195279, b: 1.198342\n",
            "step: 750, loss: 0.085680, W: 0.198599, b: 1.174800\n",
            "step: 800, loss: 0.084679, W: 0.201724, b: 1.152646\n",
            "step: 850, loss: 0.083793, W: 0.204665, b: 1.131797\n",
            "step: 900, loss: 0.083008, W: 0.207432, b: 1.112177\n",
            "step: 950, loss: 0.082312, W: 0.210037, b: 1.093712\n",
            "step: 1000, loss: 0.081697, W: 0.212488, b: 1.076336\n"
          ]
        }
      ],
      "source": []
    },
    {
      "cell_type": "markdown",
      "metadata": {
        "id": "iSToPeq-NCMl"
      },
      "source": [
        "![image.png](attachment:image.png)"
      ]
    },
    {
      "cell_type": "code",
      "execution_count": null,
      "metadata": {
        "id": "ro8u0DUnNCMl",
        "outputId": "4b0c1b11-4df9-46e9-a663-d31752302272"
      },
      "outputs": [
        {
          "data": {
            "image/png": "[encoded data removed]",
            "text/plain": [
              "<Figure size 640x480 with 1 Axes>"
            ]
          },
          "metadata": {},
          "output_type": "display_data"
        }
      ],
      "source": [
        "plt.plot(X,Y,'ro',label='Original data')\n",
        "plt.plot(X,np.array(W*X+b),label='Fitted_line')\n",
        "plt.legend()\n",
        "plt.show()"
      ]
    },
    {
      "cell_type": "code",
      "execution_count": null,
      "metadata": {
        "id": "d6AJJnWnNCM0",
        "outputId": "de238d04-1ef6-4e40-eb7d-09a43c600995"
      },
      "outputs": [
        {
          "data": {
            "image/png": "[encoded data removed]",
            "text/plain": [
              "<Figure size 640x480 with 1 Axes>"
            ]
          },
          "metadata": {},
          "output_type": "display_data"
        }
      ],
      "source": []
    },
    {
      "cell_type": "code",
      "execution_count": null,
      "metadata": {
        "id": "6xcyjnUCNCM1",
        "outputId": "bce3f5b0-e7a1-425a-cb22-a811fde2578f"
      },
      "outputs": [
        {
          "data": {
            "image/png": "[encoded data removed]",
            "text/plain": [
              "<Figure size 2000x1300 with 1 Axes>"
            ]
          },
          "metadata": {},
          "output_type": "display_data"
        }
      ],
      "source": [
        "plt.figure(figsize=(20,13))\n",
        "plt.plot(X,Y,'b*',label='Original data')\n",
        "plt.plot(X,np.array(W*X+b),':',label='Fitted_line',color='green')\n",
        "plt.legend()\n",
        "plt.show()"
      ]
    },
    {
      "cell_type": "markdown",
      "metadata": {
        "id": "1N_Mt2JMNCM1"
      },
      "source": [
        "# Lab Logbook requirements:\n",
        "### Please make sure to document the following in your Lablogbook:\n",
        "\n",
        "Include an image of the generated graph depicting the original data and the fitted line for linear regression. Modify the appearance of the graph by adjusting its color or size. Copy the figure and paste it directly into your logbook. Refrain from taking a snapshot; instead, right-click and copy the graph to your lab logbook. Ensure that no code or other information is added to the logbook and that only required graph is present.  \n",
        "\n",
        "#### Marks will not be awarded if anything else is found in the logbook or instructions are not clearly followed."
      ]
    },
    {
      "cell_type": "code",
      "execution_count": null,
      "metadata": {
        "id": "rcTFErvzNCM1"
      },
      "outputs": [],
      "source": []
    }
  ],
  "metadata": {
    "kernelspec": {
      "display_name": "Python 3 (ipykernel)",
      "language": "python",
      "name": "python3"
    },
    "language_info": {
      "codemirror_mode": {
        "name": "ipython",
        "version": 3
      },
      "file_extension": ".py",
      "mimetype": "text/x-python",
      "name": "python",
      "nbconvert_exporter": "python",
      "pygments_lexer": "ipython3",
      "version": "3.10.9"
    },
    "colab": {
      "provenance": []
    }
  },
  "nbformat": 4,
  "nbformat_minor": 0
}